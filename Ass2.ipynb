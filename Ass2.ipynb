{
 "cells": [
  {
   "cell_type": "markdown",
   "id": "1faaeb42-4d42-40a8-a573-10890d330bd7",
   "metadata": {},
   "source": [
    "Q1\n",
    "\n",
    "Their are Two types of comments in python :\n",
    "1 Single line comment \n",
    "2 Multi line comment\n",
    "\n",
    "for single line comment we use # and for multi linne comment we use '''\n"
   ]
  },
  {
   "cell_type": "markdown",
   "id": "47987922-9770-406c-afbd-81d38efb2e4a",
   "metadata": {},
   "source": [
    "Q2 \n",
    "A variable is essentially a name that refers to a value stored in memory and it used store and managed the data.\n",
    "\n",
    "Declaring a variable is easy you just need to follow the rules to name a variable.\n",
    "we can assign the vale to the variable using assingnment variable '='\n",
    " \n"
   ]
  },
  {
   "cell_type": "markdown",
   "id": "8a445bca-83d3-4b52-aed3-5263d6714ea7",
   "metadata": {},
   "source": [
    "Q3\n",
    "\n",
    "You can convert one data type to another using type conversion functions or methods. This process is also referred to as type casting."
   ]
  },
  {
   "cell_type": "markdown",
   "id": "6bfb4732-6c61-4fd2-beeb-2781443565d7",
   "metadata": {},
   "source": [
    "Q4\n",
    "\n",
    "Write the Python Script:\n",
    "Use a text editor to create a new file with a .py extension. Write your Python code in this file. For example, create a file named myscript.py\n",
    "Save the File:\n",
    "Save the file after writing your code.\n",
    "\n",
    "Navigate to the Script's Directory:\n",
    "Use the cd command to navigate to the directory where your Python script is saved. For example:\n",
    "\n",
    "\n",
    "cd /path/to/script/directory\n",
    "Execute the Script:\n",
    "To execute the script, use the python command followed by the script's filename. For example:\n",
    "\n",
    "Copy code\n",
    "python myscript.py\n",
    "\n",
    "python3 myscript.py\n",
    "View Output:\n",
    "The output of your script (in this case, the \"Hello, world!\" message) will be displayed in the terminal."
   ]
  },
  {
   "cell_type": "code",
   "execution_count": 4,
   "id": "4091b7ee-3aca-4243-afe8-d2fdf01cdc52",
   "metadata": {},
   "outputs": [
    {
     "name": "stdout",
     "output_type": "stream",
     "text": [
      "[2, 3]\n"
     ]
    }
   ],
   "source": [
    "#Q5\n",
    "\n",
    "my_list =[1,2,3,4,5]\n",
    "\n",
    "sub_list = my_list[1:3]\n",
    "\n",
    "print(sub_list)"
   ]
  },
  {
   "cell_type": "markdown",
   "id": "390a6506-0286-48e4-874b-d4041bed7db1",
   "metadata": {},
   "source": [
    "Q6\n",
    "\n",
    "A complex number is a number that comprises both a real part and an imaginary part. It's expressed in the form \"a + bi,\" where \"a\" is the real part, \"b\" is the imaginary part.\n",
    "In python imaginary part is represented by 'j'\n",
    "\n",
    "example - 7+8j\n",
    "\n"
   ]
  },
  {
   "cell_type": "markdown",
   "id": "fa0fbc3f-b78e-496a-a1c0-42f9e4186c1d",
   "metadata": {},
   "source": [
    "#Q7\n",
    "\n",
    "the correct to declare a object is \n",
    "\n",
    "age = 25"
   ]
  },
  {
   "cell_type": "markdown",
   "id": "3b260f34-6676-4b1e-94a1-dd744b472c01",
   "metadata": {},
   "source": [
    "#Q8\n",
    "\n",
    "price = 9.99\n",
    "\n",
    "This variable belongs to float data type"
   ]
  },
  {
   "cell_type": "code",
   "execution_count": 7,
   "id": "fb00b3c0-6c36-4208-9ec8-1ce166973a3f",
   "metadata": {},
   "outputs": [
    {
     "name": "stdout",
     "output_type": "stream",
     "text": [
      "Sarthak\n"
     ]
    }
   ],
   "source": [
    "#Q9\n",
    "\n",
    "name='Sarthak'\n",
    "\n",
    "print(name)\n"
   ]
  },
  {
   "cell_type": "code",
   "execution_count": 12,
   "id": "357763d4-5a76-46f8-bf27-0e8a4df035f7",
   "metadata": {},
   "outputs": [
    {
     "name": "stdout",
     "output_type": "stream",
     "text": [
      "World\n"
     ]
    }
   ],
   "source": [
    "#Q10\n",
    "string = \"Hello, World!\"\n",
    "substring = string[7:12]\n",
    "print(substring)  \n"
   ]
  },
  {
   "cell_type": "code",
   "execution_count": null,
   "id": "ea26e756-1c75-4d72-bc4b-1120b91e2b74",
   "metadata": {},
   "outputs": [],
   "source": [
    "#Q11\n",
    "\n",
    "is_student = True"
   ]
  }
 ],
 "metadata": {
  "kernelspec": {
   "display_name": "Python 3 (ipykernel)",
   "language": "python",
   "name": "python3"
  },
  "language_info": {
   "codemirror_mode": {
    "name": "ipython",
    "version": 3
   },
   "file_extension": ".py",
   "mimetype": "text/x-python",
   "name": "python",
   "nbconvert_exporter": "python",
   "pygments_lexer": "ipython3",
   "version": "3.10.8"
  }
 },
 "nbformat": 4,
 "nbformat_minor": 5
}
